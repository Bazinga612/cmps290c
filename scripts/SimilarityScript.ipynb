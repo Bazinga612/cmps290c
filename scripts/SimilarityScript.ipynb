{
 "cells": [
  {
   "cell_type": "code",
   "execution_count": 30,
   "metadata": {
    "collapsed": false
   },
   "outputs": [],
   "source": [
    "import numpy as np\n",
    "import pandas as pd\n",
    "import json\n",
    "\n",
    "df = pd.read_csv(\"Desktop/final.csv\")\n",
    "ff1=pd.DataFrame(df)    \n",
    "\n",
    "#list1=[]\n",
    "#list1=df.author.unique()\n",
    "value=''\n",
    "value2=''\n",
    "count=0\n",
    "\n",
    "for line1,line in df.iterrows():\n",
    "    \n",
    "    if (line['author']==value)& (line['subreddit_id']==value2):\n",
    "            count=count+1\n",
    "            value=line['author']\n",
    "            value2=line['subreddit_id']\n",
    "            df.loc[(df['author'] == value) & (df['subreddit_id'] == value2),value2] = count\n",
    "\n",
    "            \n",
    "    else:\n",
    "        value=line['author']\n",
    "        value2=line['subreddit_id']\n",
    "        count=1\n",
    "        df.loc[(df['author'] == value) & (df['subreddit_id'] == value2),value2] = count\n",
    "        \n",
    "        \n",
    "        \n",
    "\n",
    "\n",
    "\n"
   ]
  },
  {
   "cell_type": "code",
   "execution_count": 33,
   "metadata": {
    "collapsed": false
   },
   "outputs": [],
   "source": [
    "df.to_csv(\"lo1.csv\")"
   ]
  },
  {
   "cell_type": "code",
   "execution_count": 34,
   "metadata": {
    "collapsed": true
   },
   "outputs": [],
   "source": [
    "df2 = pd.read_csv(\"lo1.csv\")\n",
    "   "
   ]
  },
  {
   "cell_type": "code",
   "execution_count": 45,
   "metadata": {
    "collapsed": false
   },
   "outputs": [],
   "source": [
    "df2=df2.drop_duplicates(subset=['author', 'subreddit_id'])"
   ]
  },
  {
   "cell_type": "code",
   "execution_count": 47,
   "metadata": {
    "collapsed": false
   },
   "outputs": [],
   "source": [
    "df2.to_csv(\"lo3.csv\")"
   ]
  },
  {
   "cell_type": "code",
   "execution_count": null,
   "metadata": {
    "collapsed": true
   },
   "outputs": [],
   "source": ["grouped = ff1.groupby('author')
grouped.aggregate(np.sum)"]
  }
 ],
 "metadata": {
  "kernelspec": {
   "display_name": "Python 2",
   "language": "python",
   "name": "python2"
  },
  "language_info": {
   "codemirror_mode": {
    "name": "ipython",
    "version": 2
   },
   "file_extension": ".py",
   "mimetype": "text/x-python",
   "name": "python",
   "nbconvert_exporter": "python",
   "pygments_lexer": "ipython2",
   "version": "2.7.13"
  }
 },
 "nbformat": 4,
 "nbformat_minor": 2
}
