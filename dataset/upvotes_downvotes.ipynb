{
 "cells": [
  {
   "cell_type": "code",
   "execution_count": null,
   "metadata": {
    "collapsed": true
   },
   "outputs": [],
   "source": [
    "import pandas as pd\n",
    "import numpy as np\n",
    "import csv\n",
    "df=pd.read_csv(\"ups _1.csv\")\n",
    "df1=df.groupby(['subreddit_id'])\n",
    "count_subreddit={}\n",
    "for k, gp in df1:\n",
    "    \n",
    "    count_subreddit[k]=0\n",
    "    \n",
    "for lines in count_subreddit:\n",
    "    for rows,values in df.iterrows():\n",
    "           if(lines==values['subreddit_id']):\n",
    "               count_subreddit[lines]=count_subreddit[lines]+values['ups']\n",
    "new_dict_author=[]\n",
    "new_dict_subreddit_id=[]\n",
    "\n",
    "for rows,values in df.iterrows():\n",
    "    \n",
    "    if(values['ups']>=0.1*count_subreddit[values['subreddit_id']]):\n",
    "        new_dict_author.append(values['author'])\n",
    "        new_dict_subreddit_id.append(values['subreddit_id'])\n",
    "dictionary1 = dict(zip(new_dict_author, new_dict_subreddit_id))\n",
    "dictionary11=pd.DataFrame.from_dict(dictionary1, orient=\"index\")\n",
    "dictionary11.to_csv(\"final_ups.txt\")"
   ]
  },
  {
   "cell_type": "code",
   "execution_count": null,
   "metadata": {
    "collapsed": true
   },
   "outputs": [],
   "source": [
    "import pandas as pd\n",
    "import numpy as np\n",
    "import csv\n",
    "df=pd.read_csv(\"downs.csv\")\n",
    "df1=df.groupby(['subreddit_id'])\n",
    "count_subreddit={}\n",
    "for k, gp in df1:\n",
    "    \n",
    "    count_subreddit[k]=0\n",
    "    \n",
    "for lines in count_subreddit:\n",
    "    for rows,values in df.iterrows():\n",
    "           if(lines==values['subreddit_id']):\n",
    "               count_subreddit[lines]=count_subreddit[lines]+values['downs']\n",
    "new_dict_author=[]\n",
    "new_dict_subreddit_id=[]\n",
    "\n",
    "for rows,values in df.iterrows():\n",
    "    \n",
    "    if(values['downs']<=0.1*count_subreddit[values['subreddit_id']]):\n",
    "        new_dict_author.append(values['author'])\n",
    "        new_dict_subreddit_id.append(values['subreddit_id'])\n",
    "dictionary1 = dict(zip(new_dict_author, new_dict_subreddit_id))\n",
    "dictionary11=pd.DataFrame.from_dict(dictionary1, orient=\"index\")\n",
    "dictionary11.to_csv(\"final_downs.txt\")"
   ]
  }
 ],
 "metadata": {
  "kernelspec": {
   "display_name": "Python 3",
   "language": "python",
   "name": "python3"
  },
  "language_info": {
   "codemirror_mode": {
    "name": "ipython",
    "version": 3
   },
   "file_extension": ".py",
   "mimetype": "text/x-python",
   "name": "python",
   "nbconvert_exporter": "python",
   "pygments_lexer": "ipython3",
   "version": "3.6.0"
  }
 },
 "nbformat": 4,
 "nbformat_minor": 2
}
